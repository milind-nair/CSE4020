{
 "cells": [
  {
   "cell_type": "code",
   "execution_count": 30,
   "metadata": {},
   "outputs": [],
   "source": [
    "import pandas as pd\n",
    "dataset = pd.read_csv('enjoysport.csv')"
   ]
  },
  {
   "cell_type": "code",
   "execution_count": 31,
   "metadata": {},
   "outputs": [
    {
     "data": {
      "text/html": [
       "<div>\n",
       "<style scoped>\n",
       "    .dataframe tbody tr th:only-of-type {\n",
       "        vertical-align: middle;\n",
       "    }\n",
       "\n",
       "    .dataframe tbody tr th {\n",
       "        vertical-align: top;\n",
       "    }\n",
       "\n",
       "    .dataframe thead th {\n",
       "        text-align: right;\n",
       "    }\n",
       "</style>\n",
       "<table border=\"1\" class=\"dataframe\">\n",
       "  <thead>\n",
       "    <tr style=\"text-align: right;\">\n",
       "      <th></th>\n",
       "      <th>Sky</th>\n",
       "      <th>AirTemp</th>\n",
       "      <th>Humidity</th>\n",
       "      <th>Wind</th>\n",
       "      <th>Water</th>\n",
       "      <th>Forecast</th>\n",
       "      <th>EnjoySport</th>\n",
       "    </tr>\n",
       "  </thead>\n",
       "  <tbody>\n",
       "    <tr>\n",
       "      <th>0</th>\n",
       "      <td>Sunny</td>\n",
       "      <td>Warm</td>\n",
       "      <td>Normal</td>\n",
       "      <td>Strong</td>\n",
       "      <td>Warm</td>\n",
       "      <td>Same</td>\n",
       "      <td>Yes</td>\n",
       "    </tr>\n",
       "    <tr>\n",
       "      <th>1</th>\n",
       "      <td>Sunny</td>\n",
       "      <td>Warm</td>\n",
       "      <td>High</td>\n",
       "      <td>Strong</td>\n",
       "      <td>Warm</td>\n",
       "      <td>Same</td>\n",
       "      <td>Yes</td>\n",
       "    </tr>\n",
       "    <tr>\n",
       "      <th>2</th>\n",
       "      <td>Rain</td>\n",
       "      <td>Cold</td>\n",
       "      <td>High</td>\n",
       "      <td>Strong</td>\n",
       "      <td>Warm</td>\n",
       "      <td>Change</td>\n",
       "      <td>No</td>\n",
       "    </tr>\n",
       "    <tr>\n",
       "      <th>3</th>\n",
       "      <td>Sunny</td>\n",
       "      <td>Warm</td>\n",
       "      <td>High</td>\n",
       "      <td>Strong</td>\n",
       "      <td>Cool</td>\n",
       "      <td>Change</td>\n",
       "      <td>Yes</td>\n",
       "    </tr>\n",
       "  </tbody>\n",
       "</table>\n",
       "</div>"
      ],
      "text/plain": [
       "     Sky AirTemp Humidity    Wind Water Forecast EnjoySport\n",
       "0  Sunny    Warm   Normal  Strong  Warm     Same        Yes\n",
       "1  Sunny    Warm     High  Strong  Warm     Same        Yes\n",
       "2   Rain    Cold     High  Strong  Warm   Change         No\n",
       "3  Sunny    Warm     High  Strong  Cool   Change        Yes"
      ]
     },
     "execution_count": 31,
     "metadata": {},
     "output_type": "execute_result"
    }
   ],
   "source": [
    "dataset"
   ]
  },
  {
   "cell_type": "code",
   "execution_count": 32,
   "metadata": {},
   "outputs": [],
   "source": [
    "dataset = dataset.values.tolist()\n",
    "rows = len(dataset)\n",
    "columns = len(dataset[0])-1"
   ]
  },
  {
   "cell_type": "code",
   "execution_count": 33,
   "metadata": {},
   "outputs": [
    {
     "name": "stdout",
     "output_type": "stream",
     "text": [
      "The initial hypothesis is : h[0] =  ['phi', 'phi', 'phi', 'phi', 'phi', 'phi']\n",
      "\n",
      "Instance 1 is ['Sunny', 'Warm', 'Normal', 'Strong', 'Warm', 'Same', 'Yes']\n",
      "h[1] = ['Sunny', 'Warm', 'Normal', 'Strong', 'Warm', 'Same']\n",
      "\n",
      "\n",
      "Instance 2 is ['Sunny', 'Warm', 'High', 'Strong', 'Warm', 'Same', 'Yes']\n",
      "h[2] = ['Sunny', 'Warm', '?', 'Strong', 'Warm', 'Same']\n",
      "\n",
      "\n",
      "Instance 3 is ['Rain', 'Cold', 'High', 'Strong', 'Warm', 'Change', 'No']\n",
      "h[3] = ['Sunny', 'Warm', '?', 'Strong', 'Warm', 'Same']\n",
      "\n",
      "\n",
      "Instance 4 is ['Sunny', 'Warm', 'High', 'Strong', 'Cool', 'Change', 'Yes']\n",
      "h[4] = ['Sunny', 'Warm', '?', 'Strong', '?', '?']\n",
      "\n",
      "\n",
      "The Final Hypothesis is  : ['Sunny', 'Warm', '?', 'Strong', '?', '?']\n"
     ]
    }
   ],
   "source": [
    "hypothesis = [\"phi\"]*columns\n",
    "print(\"The initial hypothesis is : h[0] = \", hypothesis )\n",
    "print()\n",
    "\n",
    "for i in range(0,rows):\n",
    "    print(\"Instance {} is {}\".format(i+1,dataset[i]))\n",
    "    if(dataset[i][columns]==\"Yes\"):\n",
    "        if hypothesis[0]==\"phi\":\n",
    "            for j in range(0,columns):\n",
    "                hypothesis[j]=dataset[0][j]\n",
    "        for j in range(columns):\n",
    "            if(dataset[i][j]!=hypothesis[j]):\n",
    "                hypothesis[j]=\"?\"\n",
    "    print (\"h[{}] = {}\".format(i+1,hypothesis))\n",
    "    print(\"\\n\")\n",
    "print(\"The Final Hypothesis is  : {}\".format(hypothesis))"
   ]
  }
 ],
 "metadata": {
  "kernelspec": {
   "display_name": "base",
   "language": "python",
   "name": "python3"
  },
  "language_info": {
   "codemirror_mode": {
    "name": "ipython",
    "version": 3
   },
   "file_extension": ".py",
   "mimetype": "text/x-python",
   "name": "python",
   "nbconvert_exporter": "python",
   "pygments_lexer": "ipython3",
   "version": "3.9.13 (main, Aug 25 2022, 23:51:50) [MSC v.1916 64 bit (AMD64)]"
  },
  "orig_nbformat": 4,
  "vscode": {
   "interpreter": {
    "hash": "eecee88d82e033e596ebd607ad429a20874bef18bfeedb4258ce6b26b139d428"
   }
  }
 },
 "nbformat": 4,
 "nbformat_minor": 2
}
