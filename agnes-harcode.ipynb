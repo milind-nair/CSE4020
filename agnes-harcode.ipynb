{
 "cells": [
  {
   "cell_type": "code",
   "execution_count": 1,
   "metadata": {},
   "outputs": [
    {
     "name": "stdout",
     "output_type": "stream",
     "text": [
      "Merging A and C with distance 1.0\n",
      "Merging B and E with distance 1.4142135623730951\n",
      "Merging D and (A,C) with distance 2.5\n",
      "Merging (B,E) and (D,(A,C)) with distance 3.7165171868296265\n",
      "Final cluster: ((B,E),(D,(A,C)))\n"
     ]
    }
   ],
   "source": [
    "import math\n",
    "\n",
    "# Define the input data\n",
    "data = {\n",
    "    'A': (2, 5),\n",
    "    'B': (6, 5),\n",
    "    'C': (2, 4),\n",
    "    'D': (2, 2),\n",
    "    'E': (5, 4)\n",
    "}\n",
    "\n",
    "# Define a function to calculate the distance between two points\n",
    "def distance(p1, p2):\n",
    "    x1, y1 = p1\n",
    "    x2, y2 = p2\n",
    "    return math.sqrt((x2 - x1) ** 2 + (y2 - y1) ** 2)\n",
    "\n",
    "# Define a function to find the two closest points in the dataset\n",
    "def find_closest_points(data):\n",
    "    min_distance = float('inf')\n",
    "    closest_points = None\n",
    "    for i, p1 in enumerate(data):\n",
    "        for j, p2 in enumerate(data):\n",
    "            if i >= j:\n",
    "                continue\n",
    "            d = distance(data[p1], data[p2])\n",
    "            if d < min_distance:\n",
    "                min_distance = d\n",
    "                closest_points = (p1, p2)\n",
    "    return closest_points, min_distance\n",
    "\n",
    "# Define the agglomerative nesting algorithm function\n",
    "def agglomerative_nesting(data):\n",
    "    clusters = list(data.keys())\n",
    "    while len(clusters) > 1:\n",
    "        closest_points, min_distance = find_closest_points(data)\n",
    "        cluster1, cluster2 = closest_points\n",
    "        print(f\"Merging {cluster1} and {cluster2} with distance {min_distance}\")\n",
    "        new_cluster = f\"({cluster1},{cluster2})\"\n",
    "        data[new_cluster] = tuple(\n",
    "            sum(x)/len(x) for x in zip(data[cluster1], data[cluster2]))\n",
    "        del data[cluster1], data[cluster2]\n",
    "        clusters.remove(cluster1)\n",
    "        clusters.remove(cluster2)\n",
    "        clusters.append(new_cluster)\n",
    "    return clusters[0]\n",
    "\n",
    "# Run the algorithm on the data and print the final cluster\n",
    "final_cluster = agglomerative_nesting(data)\n",
    "print(f\"Final cluster: {final_cluster}\")"
   ]
  }
 ],
 "metadata": {
  "kernelspec": {
   "display_name": "base",
   "language": "python",
   "name": "python3"
  },
  "language_info": {
   "codemirror_mode": {
    "name": "ipython",
    "version": 3
   },
   "file_extension": ".py",
   "mimetype": "text/x-python",
   "name": "python",
   "nbconvert_exporter": "python",
   "pygments_lexer": "ipython3",
   "version": "3.9.13"
  },
  "orig_nbformat": 4
 },
 "nbformat": 4,
 "nbformat_minor": 2
}
