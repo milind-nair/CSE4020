{
 "cells": [
  {
   "cell_type": "code",
   "execution_count": 74,
   "metadata": {},
   "outputs": [
    {
     "data": {
      "text/html": [
       "<div>\n",
       "<style scoped>\n",
       "    .dataframe tbody tr th:only-of-type {\n",
       "        vertical-align: middle;\n",
       "    }\n",
       "\n",
       "    .dataframe tbody tr th {\n",
       "        vertical-align: top;\n",
       "    }\n",
       "\n",
       "    .dataframe thead th {\n",
       "        text-align: right;\n",
       "    }\n",
       "</style>\n",
       "<table border=\"1\" class=\"dataframe\">\n",
       "  <thead>\n",
       "    <tr style=\"text-align: right;\">\n",
       "      <th></th>\n",
       "      <th>Y</th>\n",
       "      <th>X1</th>\n",
       "      <th>X2</th>\n",
       "    </tr>\n",
       "  </thead>\n",
       "  <tbody>\n",
       "    <tr>\n",
       "      <th>0</th>\n",
       "      <td>-3.7</td>\n",
       "      <td>3</td>\n",
       "      <td>8</td>\n",
       "    </tr>\n",
       "    <tr>\n",
       "      <th>1</th>\n",
       "      <td>3.5</td>\n",
       "      <td>4</td>\n",
       "      <td>5</td>\n",
       "    </tr>\n",
       "    <tr>\n",
       "      <th>2</th>\n",
       "      <td>2.5</td>\n",
       "      <td>5</td>\n",
       "      <td>7</td>\n",
       "    </tr>\n",
       "    <tr>\n",
       "      <th>3</th>\n",
       "      <td>11.5</td>\n",
       "      <td>6</td>\n",
       "      <td>3</td>\n",
       "    </tr>\n",
       "    <tr>\n",
       "      <th>4</th>\n",
       "      <td>5.7</td>\n",
       "      <td>2</td>\n",
       "      <td>1</td>\n",
       "    </tr>\n",
       "    <tr>\n",
       "      <th>5</th>\n",
       "      <td>6.4</td>\n",
       "      <td>3</td>\n",
       "      <td>2</td>\n",
       "    </tr>\n",
       "  </tbody>\n",
       "</table>\n",
       "</div>"
      ],
      "text/plain": [
       "      Y  X1  X2\n",
       "0  -3.7   3   8\n",
       "1   3.5   4   5\n",
       "2   2.5   5   7\n",
       "3  11.5   6   3\n",
       "4   5.7   2   1\n",
       "5   6.4   3   2"
      ]
     },
     "execution_count": 74,
     "metadata": {},
     "output_type": "execute_result"
    }
   ],
   "source": [
    "import pandas as pd \n",
    "import numpy as np \n",
    "import matplotlib.pyplot as plt \n",
    "from sklearn.metrics import mean_squared_error \n",
    "dataset = pd.read_csv(\"multiplelr.csv\")\n",
    "dataset"
   ]
  },
  {
   "cell_type": "code",
   "execution_count": 75,
   "metadata": {},
   "outputs": [
    {
     "name": "stdout",
     "output_type": "stream",
     "text": [
      "Training Attribute x =\n",
      "[3 8],[4 5],[5 7],[6 3],[2 1],[3 2]\n",
      "Test Attribute y =\n",
      "-3.7,3.5,2.5,11.5,5.7,6.4\n"
     ]
    }
   ],
   "source": [
    "x = dataset.iloc[:,1:].values\n",
    "print(\"Training Attribute x =\")\n",
    "print(*x,sep=\",\") \n",
    "y = dataset.iloc[:,0].values\n",
    "print(\"Test Attribute y =\")\n",
    "print(*y,sep=\",\") "
   ]
  },
  {
   "cell_type": "code",
   "execution_count": 76,
   "metadata": {},
   "outputs": [
    {
     "name": "stdout",
     "output_type": "stream",
     "text": [
      "XTrain =\n",
      "[5 7],[4 5],[6 3],[3 8],[2 1]\n",
      "\n",
      "XTest =\n",
      "[3 2]\n",
      "\n",
      "YTrain =\n",
      "2.5,3.5,11.5,-3.7,5.7\n",
      "\n",
      "YTest =\n",
      "[6.4]\n"
     ]
    }
   ],
   "source": [
    "from sklearn.model_selection import train_test_split\n",
    "x_train, x_test, y_train, y_test = train_test_split(x, y, test_size=0.16, random_state=0)\n",
    "print(\"XTrain =\")\n",
    "print(*x_train,sep=\",\")\n",
    "xtest = x_test.reshape(-1, 1)\n",
    "print()\n",
    "print(\"XTest =\")\n",
    "print(*x_test,sep=\",\")\n",
    "print()\n",
    "print(\"YTrain =\")\n",
    "print(*y_train,sep=\",\")\n",
    "print()\n",
    "print(\"YTest =\")\n",
    "print(y_test,sep=\",\")"
   ]
  },
  {
   "cell_type": "code",
   "execution_count": 77,
   "metadata": {},
   "outputs": [
    {
     "name": "stdout",
     "output_type": "stream",
     "text": [
      "The coefficient w1 =  2.2816300940438863\n",
      "The coefficient w2 =  -1.672100313479623\n",
      "The coefficient w0 =  2.7995611285266455\n",
      "The predicted y value is : ypred =  6.300250783699058\n"
     ]
    }
   ],
   "source": [
    "from sklearn.linear_model import LinearRegression\n",
    "regressor = LinearRegression()\n",
    "regressor.fit(x_train,y_train)\n",
    "y_pred = regressor.predict(x_test)\n",
    "print(\"The coefficient w1 = \" , regressor.coef_[0])\n",
    "print(\"The coefficient w2 = \" , regressor.coef_[1])\n",
    "print(\"The coefficient w0 = \" , regressor.intercept_)\n",
    "print(\"The predicted y value is : ypred = \", *y_pred)"
   ]
  },
  {
   "cell_type": "code",
   "execution_count": 78,
   "metadata": {},
   "outputs": [
    {
     "name": "stdout",
     "output_type": "stream",
     "text": [
      "The Mean Squared Error is :  0.009949906152652229\n",
      "The loss is :  0.09974921630094258\n"
     ]
    }
   ],
   "source": [
    "print(\"The Mean Squared Error is : \" , mean_squared_error([y_test],y_pred))\n",
    "loss = y_test - y_pred\n",
    "print(\"The loss is : \" ,*loss)"
   ]
  }
 ],
 "metadata": {
  "kernelspec": {
   "display_name": "base",
   "language": "python",
   "name": "python3"
  },
  "language_info": {
   "codemirror_mode": {
    "name": "ipython",
    "version": 3
   },
   "file_extension": ".py",
   "mimetype": "text/x-python",
   "name": "python",
   "nbconvert_exporter": "python",
   "pygments_lexer": "ipython3",
   "version": "3.9.13 (main, Aug 25 2022, 23:51:50) [MSC v.1916 64 bit (AMD64)]"
  },
  "orig_nbformat": 4,
  "vscode": {
   "interpreter": {
    "hash": "eecee88d82e033e596ebd607ad429a20874bef18bfeedb4258ce6b26b139d428"
   }
  }
 },
 "nbformat": 4,
 "nbformat_minor": 2
}
