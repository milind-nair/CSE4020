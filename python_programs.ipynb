{
 "cells": [
  {
   "cell_type": "markdown",
   "metadata": {},
   "source": [
    "\n",
    "Q1) Ria is a 5 year old girl. Her mother wants to teach her how to sort words in the same \n",
    "order that they appear in a dictionary. She decides to write a program to sort a given \n",
    "set of strings based on their alphabetical order. Help Ria’s mother to complete the \n",
    "program."
   ]
  },
  {
   "cell_type": "code",
   "execution_count": 6,
   "metadata": {},
   "outputs": [
    {
     "name": "stdout",
     "output_type": "stream",
     "text": [
      "['Avengers', 'EndGame', 'InfinityWar']\n"
     ]
    }
   ],
   "source": [
    "num = int(input())\n",
    "words = input().split()\n",
    "words.sort()\n",
    "print(words)"
   ]
  },
  {
   "cell_type": "markdown",
   "metadata": {},
   "source": [
    "Q2) You are given a number ‘n’. Your task is to create the smallest number possible \n",
    "using the digits of number. The number should be of the same length as the orignal \n",
    "input number."
   ]
  },
  {
   "cell_type": "code",
   "execution_count": 11,
   "metadata": {},
   "outputs": [
    {
     "name": "stdout",
     "output_type": "stream",
     "text": [
      "112233445566778899\n"
     ]
    }
   ],
   "source": [
    "number = input()\n",
    "chars = []\n",
    "for c in number:\n",
    "    chars.append(c)\n",
    "smallest_num = ''.join(sorted(chars))\n",
    "print(smallest_num)"
   ]
  },
  {
   "cell_type": "markdown",
   "metadata": {},
   "source": [
    "Q3) You are given a string s.Your task is to remove all the adjacent duplicate character \n",
    "from string.Print the string formed out of it."
   ]
  },
  {
   "cell_type": "code",
   "execution_count": 15,
   "metadata": {},
   "outputs": [
    {
     "name": "stdout",
     "output_type": "stream",
     "text": [
      "Gksforgk\n"
     ]
    }
   ],
   "source": [
    "string = input()\n",
    "i=0\n",
    "while(i<len(string)-1):\n",
    "    if(string[i]==string[i+1]):\n",
    "        string= string[:i]+string[i+2:]\n",
    "    else:\n",
    "        i=i+1\n",
    "print(string)"
   ]
  },
  {
   "cell_type": "markdown",
   "metadata": {},
   "source": [
    "Q4) Given a string as input, you have to reverse the string by keeping the punctuation and \n",
    "spaces intact. You have to modify the source\n",
    "string itself without creating another string.\n"
   ]
  },
  {
   "cell_type": "code",
   "execution_count": 18,
   "metadata": {},
   "outputs": [
    {
     "name": "stdout",
     "output_type": "stream",
     "text": [
      "y kse, ht ni3 21ee sIsy : a sta o-b-e ht nin amA\n"
     ]
    }
   ],
   "source": [
    "inputstring = input()\n",
    "start = 0\n",
    "end = len(inputstring)-1\n",
    "while(start<=end):\n",
    "    if(not inputstring[start].isalnum()):\n",
    "        start+=1\n",
    "    elif(not inputstring[end].isalnum()):\n",
    "        end-=1\n",
    "    else:\n",
    "        inputstring = inputstring[:start]+inputstring[end]+inputstring[start+1:end]+inputstring[start]+inputstring[end+1:]\n",
    "        start+=1\n",
    "        end-=1\n",
    "print(inputstring)\n"
   ]
  },
  {
   "cell_type": "markdown",
   "metadata": {},
   "source": [
    "Q5) Assume that you are ticket verifier at a club. Your club has decided to give a special \n",
    "discount to the person(s) who are satisfying the following condition\n",
    "Condition:-\n",
    "If ticket number is divisible by date of month. You are eligible for a discount. Print 1 if the ticket is eligible for discount else 0"
   ]
  },
  {
   "cell_type": "code",
   "execution_count": 24,
   "metadata": {},
   "outputs": [
    {
     "name": "stdout",
     "output_type": "stream",
     "text": [
      "0\n",
      "0\n",
      "0\n",
      "0\n",
      "0\n",
      "1\n"
     ]
    }
   ],
   "source": [
    "num = int(input())\n",
    "l = input().split()\n",
    "date = int(input())\n",
    "for i in range(num):\n",
    "    if(int(l[i])%date==0):\n",
    "        print(1)\n",
    "    else:\n",
    "        print(0)"
   ]
  },
  {
   "cell_type": "markdown",
   "metadata": {},
   "source": [
    "Q6) Roman Reigns want to identify the repeated letters in two given strings and capitalize \n",
    "it.Help him to achieve it.\n"
   ]
  },
  {
   "cell_type": "code",
   "execution_count": 28,
   "metadata": {},
   "outputs": [
    {
     "name": "stdout",
     "output_type": "stream",
     "text": [
      "['cOMPuteR', 'PROgRaM']\n"
     ]
    }
   ],
   "source": [
    "roman = input().split()\n",
    "n  = len(roman[0])\n",
    "m = len(roman[1])\n",
    "for i in range(n):\n",
    "    for j in range(m):\n",
    "        if(roman[0][i].lower()==roman[1][j].lower()):\n",
    "            roman[0]= roman[0][:i]+ roman[0][i].upper() + roman[0][i+1:]\n",
    "            roman[1]= roman[1][:j]+ roman[1][j].upper() + roman[1][j+1:]\n",
    "print(roman)"
   ]
  },
  {
   "cell_type": "markdown",
   "metadata": {},
   "source": [
    "Q7) Swagger and Rock are playing a word game. They need to check the two strings use the \n",
    "same base alphabets. Two strings are said to have same base alphabets if they use the \n",
    "same characters to form the word. eg: rescue and curse have same base alphabets -\n",
    "c,e,r,s,u.If it so print 'true' else print 'false'"
   ]
  },
  {
   "cell_type": "code",
   "execution_count": 29,
   "metadata": {},
   "outputs": [
    {
     "name": "stdout",
     "output_type": "stream",
     "text": [
      "True\n"
     ]
    }
   ],
   "source": [
    "strings = input().split()\n",
    "string1 = strings[0]\n",
    "string2 = strings[1]\n",
    "c1=set()\n",
    "c2=set()\n",
    "for i in range(len(string1)):\n",
    "    c1.add(string1[i])\n",
    "for i in range(len(string2)):\n",
    "    c2.add(string2[i])\n",
    "if(c1==c2):\n",
    "    print(\"True\")\n",
    "else:\n",
    "    print(\"False\")"
   ]
  },
  {
   "cell_type": "markdown",
   "metadata": {},
   "source": [
    "Q8) Given a string and a number K, change every kth character to uppercase from beginning \n",
    "in string."
   ]
  },
  {
   "cell_type": "code",
   "execution_count": 31,
   "metadata": {},
   "outputs": [
    {
     "name": "stdout",
     "output_type": "stream",
     "text": [
      "iNpUtStRiNg\n"
     ]
    }
   ],
   "source": [
    "string = input()\n",
    "k = int(input())\n",
    "temp =k\n",
    "for i in range(len(string)):\n",
    "    temp-=1\n",
    "    if(temp==0):\n",
    "        string=string[:i]+string[i].upper()+string[i+1:]\n",
    "        temp=k\n",
    "print(string) "
   ]
  }
 ],
 "metadata": {
  "kernelspec": {
   "display_name": "Python 3.9.13 ('base')",
   "language": "python",
   "name": "python3"
  },
  "language_info": {
   "codemirror_mode": {
    "name": "ipython",
    "version": 3
   },
   "file_extension": ".py",
   "mimetype": "text/x-python",
   "name": "python",
   "nbconvert_exporter": "python",
   "pygments_lexer": "ipython3",
   "version": "3.9.13 (main, Aug 25 2022, 23:51:50) [MSC v.1916 64 bit (AMD64)]"
  },
  "orig_nbformat": 4,
  "vscode": {
   "interpreter": {
    "hash": "eecee88d82e033e596ebd607ad429a20874bef18bfeedb4258ce6b26b139d428"
   }
  }
 },
 "nbformat": 4,
 "nbformat_minor": 2
}
