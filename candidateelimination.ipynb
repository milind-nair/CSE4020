{
 "cells": [
  {
   "cell_type": "code",
   "execution_count": 46,
   "metadata": {},
   "outputs": [],
   "source": [
    "import pandas as pd\n",
    "dataset=[]\n",
    "dataset = pd.read_csv('enjoysport.csv')\n",
    "dataset = dataset.values.tolist()\n",
    "rows = len(dataset)\n",
    "columns = len(dataset[0])-1"
   ]
  },
  {
   "cell_type": "code",
   "execution_count": 47,
   "metadata": {},
   "outputs": [
    {
     "data": {
      "text/plain": [
       "[['Sunny', 'Warm', 'Normal', 'Strong', 'Warm', 'Same', 'Yes'],\n",
       " ['Sunny', 'Warm', 'High', 'Strong', 'Warm', 'Same', 'Yes'],\n",
       " ['Rain', 'Cold', 'High', 'Strong', 'Warm', 'Change', 'No'],\n",
       " ['Sunny', 'Warm', 'High', 'Strong', 'Cool', 'Change', 'Yes']]"
      ]
     },
     "execution_count": 47,
     "metadata": {},
     "output_type": "execute_result"
    }
   ],
   "source": [
    "dataset"
   ]
  },
  {
   "cell_type": "code",
   "execution_count": 48,
   "metadata": {},
   "outputs": [
    {
     "name": "stdout",
     "output_type": "stream",
     "text": [
      "The most specific hypothesis is : S =  ['0', '0', '0', '0', '0', '0']\n",
      "The most general hypothesis is : G =  ['?', '?', '?', '?', '?', '?']\n",
      "\n"
     ]
    }
   ],
   "source": [
    "S=['0']*columns\n",
    "G=['?']*columns\n",
    "print(\"The most specific hypothesis is : S = \", S )\n",
    "print(\"The most general hypothesis is : G = \", G )\n",
    "print()"
   ]
  },
  {
   "cell_type": "code",
   "execution_count": 49,
   "metadata": {},
   "outputs": [
    {
     "name": "stdout",
     "output_type": "stream",
     "text": [
      "Instance 1 is ['Sunny', 'Warm', 'Normal', 'Strong', 'Warm', 'Same', 'Yes']\n",
      "S[1] = ['Sunny', 'Warm', 'Normal', 'Strong', 'Warm', 'Same']\n",
      "G[1] = ['?', '?', '?', '?', '?', '?']\n",
      "\n",
      "Instance 2 is ['Sunny', 'Warm', 'High', 'Strong', 'Warm', 'Same', 'Yes']\n",
      "S[2] = ['Sunny', 'Warm', '?', 'Strong', 'Warm', 'Same']\n",
      "G[2] = ['?', '?', '?', '?', '?', '?']\n",
      "\n",
      "Instance 3 is ['Rain', 'Cold', 'High', 'Strong', 'Warm', 'Change', 'No']\n",
      "S[3] = ['Sunny', 'Warm', '?', 'Strong', 'Warm', 'Same']\n",
      "G[3] = [['Sunny', '?', '?', '?', '?', '?'], ['?', 'Warm', '?', '?', '?', '?'], ['?', '?', '?', '?', '?', 'Same']]\n",
      "\n",
      "Instance 4 is ['Sunny', 'Warm', 'High', 'Strong', 'Cool', 'Change', 'Yes']\n",
      "S[4] = ['Sunny', 'Warm', '?', 'Strong', '?', '?']\n",
      "G[4] = [['Sunny', '?', '?', '?', '?', '?'], ['?', 'Warm', '?', '?', '?', '?']]\n",
      "\n",
      "The Final S is  : ['Sunny', 'Warm', '?', 'Strong', '?', '?']\n",
      "The Final G is  : [['Sunny', '?', '?', '?', '?', '?'], ['?', 'Warm', '?', '?', '?', '?']]\n"
     ]
    }
   ],
   "source": [
    "temp=[]\n",
    "for i in range(0,len(dataset)):\n",
    "    if dataset[i][columns] == \"Yes\" :\n",
    "        if S[0]==\"0\":\n",
    "            for j in range(0,columns):\n",
    "                S[j]=dataset[0][j]\n",
    "        for j in range(0,columns):\n",
    "            if S[j] != dataset[i][j]:\n",
    "                S[j]=\"?\"\n",
    "        for j in range(0, columns):\n",
    "            for k in range(0,len(temp)):\n",
    "                if temp[k][j] != S[j] and temp[k][j] !=\"?\" :\n",
    "                    del temp[k]\n",
    "    if dataset[i][columns]== \"No\":\n",
    "        for j in range(0,columns):\n",
    "            if dataset[i][j] != S[j] and S[j] !=\"?\" :\n",
    "                G[j] = S[j]\n",
    "                temp.append(G)\n",
    "                G=[\"?\"]*columns\n",
    "    print(\"Instance {} is {}\".format(i+1,dataset[i]))\n",
    "    print (\"S[{}] = {}\".format(i+1,S))\n",
    "    if len(temp)==0:\n",
    "        print(\"G[{}] = {}\".format(i+1,G))\n",
    "    else:\n",
    "        print(\"G[{}] = {}\".format(i+1,temp))\n",
    "    print()\n",
    "\n",
    "print(\"The Final S is  : {}\".format(S))\n",
    "if len(temp)==0:\n",
    "    print(\"The Final G is  : {}\".format(G))\n",
    "else:\n",
    "    print(\"The Final G is  : {}\".format(temp))\n"
   ]
  }
 ],
 "metadata": {
  "kernelspec": {
   "display_name": "base",
   "language": "python",
   "name": "python3"
  },
  "language_info": {
   "codemirror_mode": {
    "name": "ipython",
    "version": 3
   },
   "file_extension": ".py",
   "mimetype": "text/x-python",
   "name": "python",
   "nbconvert_exporter": "python",
   "pygments_lexer": "ipython3",
   "version": "3.9.13 (main, Aug 25 2022, 23:51:50) [MSC v.1916 64 bit (AMD64)]"
  },
  "orig_nbformat": 4,
  "vscode": {
   "interpreter": {
    "hash": "eecee88d82e033e596ebd607ad429a20874bef18bfeedb4258ce6b26b139d428"
   }
  }
 },
 "nbformat": 4,
 "nbformat_minor": 2
}
