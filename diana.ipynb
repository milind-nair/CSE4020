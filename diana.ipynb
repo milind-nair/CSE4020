{
 "cells": [
  {
   "cell_type": "code",
   "execution_count": 56,
   "metadata": {},
   "outputs": [],
   "source": [
    "import numpy as np;\n",
    "import pandas as pd\n",
    "from scipy.spatial import distance_matrix"
   ]
  },
  {
   "cell_type": "code",
   "execution_count": 57,
   "metadata": {},
   "outputs": [],
   "source": [
    "dataset = pd.read_csv('heirarchical.csv')\n",
    "labels=np.asarray(dataset.iloc[:,0]).tolist()\n",
    "datapoints = dataset.iloc[:,1:]"
   ]
  },
  {
   "cell_type": "code",
   "execution_count": 58,
   "metadata": {},
   "outputs": [],
   "source": [
    "dist_mat = distance_matrix(datapoints,datapoints,p=2)"
   ]
  },
  {
   "cell_type": "code",
   "execution_count": 59,
   "metadata": {},
   "outputs": [
    {
     "data": {
      "text/html": [
       "<div>\n",
       "<style scoped>\n",
       "    .dataframe tbody tr th:only-of-type {\n",
       "        vertical-align: middle;\n",
       "    }\n",
       "\n",
       "    .dataframe tbody tr th {\n",
       "        vertical-align: top;\n",
       "    }\n",
       "\n",
       "    .dataframe thead th {\n",
       "        text-align: right;\n",
       "    }\n",
       "</style>\n",
       "<table border=\"1\" class=\"dataframe\">\n",
       "  <thead>\n",
       "    <tr style=\"text-align: right;\">\n",
       "      <th></th>\n",
       "      <th>A</th>\n",
       "      <th>B</th>\n",
       "      <th>C</th>\n",
       "      <th>D</th>\n",
       "      <th>E</th>\n",
       "    </tr>\n",
       "  </thead>\n",
       "  <tbody>\n",
       "    <tr>\n",
       "      <th>A</th>\n",
       "      <td>0.000000</td>\n",
       "      <td>4.000000</td>\n",
       "      <td>1.000000</td>\n",
       "      <td>3.000000</td>\n",
       "      <td>3.162278</td>\n",
       "    </tr>\n",
       "    <tr>\n",
       "      <th>B</th>\n",
       "      <td>4.000000</td>\n",
       "      <td>0.000000</td>\n",
       "      <td>4.123106</td>\n",
       "      <td>5.000000</td>\n",
       "      <td>1.414214</td>\n",
       "    </tr>\n",
       "    <tr>\n",
       "      <th>C</th>\n",
       "      <td>1.000000</td>\n",
       "      <td>4.123106</td>\n",
       "      <td>0.000000</td>\n",
       "      <td>2.000000</td>\n",
       "      <td>3.000000</td>\n",
       "    </tr>\n",
       "    <tr>\n",
       "      <th>D</th>\n",
       "      <td>3.000000</td>\n",
       "      <td>5.000000</td>\n",
       "      <td>2.000000</td>\n",
       "      <td>0.000000</td>\n",
       "      <td>3.605551</td>\n",
       "    </tr>\n",
       "    <tr>\n",
       "      <th>E</th>\n",
       "      <td>3.162278</td>\n",
       "      <td>1.414214</td>\n",
       "      <td>3.000000</td>\n",
       "      <td>3.605551</td>\n",
       "      <td>0.000000</td>\n",
       "    </tr>\n",
       "  </tbody>\n",
       "</table>\n",
       "</div>"
      ],
      "text/plain": [
       "          A         B         C         D         E\n",
       "A  0.000000  4.000000  1.000000  3.000000  3.162278\n",
       "B  4.000000  0.000000  4.123106  5.000000  1.414214\n",
       "C  1.000000  4.123106  0.000000  2.000000  3.000000\n",
       "D  3.000000  5.000000  2.000000  0.000000  3.605551\n",
       "E  3.162278  1.414214  3.000000  3.605551  0.000000"
      ]
     },
     "execution_count": 59,
     "metadata": {},
     "output_type": "execute_result"
    }
   ],
   "source": [
    "dissimilarity_matrix = pd.DataFrame(dist_mat,index=labels, columns=labels)\n",
    "dissimilarity_matrix"
   ]
  },
  {
   "cell_type": "code",
   "execution_count": 60,
   "metadata": {},
   "outputs": [],
   "source": [
    "def avg_dissim_within_group_element(ele, element_list):\n",
    "    max_diameter = -np.inf\n",
    "    sum_dissm = 0\n",
    "    for i in element_list:\n",
    "        sum_dissm += dissimilarity_matrix[ele][i]   \n",
    "        if( dissimilarity_matrix[ele][i]  > max_diameter):\n",
    "            max_diameter = dissimilarity_matrix[ele][i]\n",
    "    if(len(element_list)>1):\n",
    "        avg = sum_dissm/(len(element_list)-1)\n",
    "    else: \n",
    "        avg = 0\n",
    "    return avg\n",
    "\n",
    "def avg_dissim_across_group_element(ele, main_list, splinter_list):\n",
    "    if len(splinter_list) == 0:\n",
    "        return 0\n",
    "    sum_dissm = 0\n",
    "    for j in splinter_list:\n",
    "        sum_dissm = sum_dissm + dissimilarity_matrix[ele][j]\n",
    "    avg = sum_dissm/(len(splinter_list))\n",
    "    return avg\n",
    "    \n",
    "    \n",
    "def splinter(main_list, splinter_group):\n",
    "    most_dissm_object_value = -np.inf\n",
    "    most_dissm_object_index = None\n",
    "    for ele in main_list:\n",
    "        x = avg_dissim_within_group_element(ele, main_list)\n",
    "        y = avg_dissim_across_group_element(ele, main_list, splinter_group)\n",
    "        diff= x -y\n",
    "        if diff > most_dissm_object_value:\n",
    "            most_dissm_object_value = diff\n",
    "            most_dissm_object_index = ele\n",
    "    if(most_dissm_object_value>0):\n",
    "        return  (most_dissm_object_index, 1)\n",
    "    else:\n",
    "        return (-1, -1)\n",
    "    \n",
    "def split(element_list):\n",
    "    main_list = element_list\n",
    "    splinter_group = []    \n",
    "    (most_dissm_object_index,flag) = splinter(main_list, splinter_group)\n",
    "    while(flag > 0):\n",
    "        main_list.remove(most_dissm_object_index)\n",
    "        splinter_group.append(most_dissm_object_index)\n",
    "        (most_dissm_object_index,flag) = splinter(element_list, splinter_group)\n",
    "    \n",
    "    return (main_list, splinter_group)\n",
    "\n",
    "def max_diameter(cluster_list):\n",
    "    max_diameter_cluster_index = None\n",
    "    max_diameter_cluster_value = -np.inf\n",
    "    index = 0\n",
    "    for element_list in cluster_list:\n",
    "        for i in element_list:\n",
    "            for j in element_list:\n",
    "                if dissimilarity_matrix[i][j]  > max_diameter_cluster_value:\n",
    "                    max_diameter_cluster_value = dissimilarity_matrix[i][j]\n",
    "                    max_diameter_cluster_index = index\n",
    "        \n",
    "        index +=1\n",
    "    \n",
    "    if(max_diameter_cluster_value <= 0):\n",
    "        return -1\n",
    "    \n",
    "    return max_diameter_cluster_index"
   ]
  },
  {
   "cell_type": "code",
   "execution_count": 61,
   "metadata": {},
   "outputs": [
    {
     "name": "stdout",
     "output_type": "stream",
     "text": [
      "1 [['A', 'B', 'C', 'D', 'E']]\n",
      "\n",
      "2 [['A', 'C', 'D'], ['B', 'E']]\n",
      "\n",
      "3 [['B', 'E'], ['A', 'C'], ['D']]\n",
      "\n",
      "4 [['A', 'C'], ['D'], ['E'], ['B']]\n",
      "\n",
      "5 [['D'], ['E'], ['B'], ['C'], ['A']]\n"
     ]
    }
   ],
   "source": [
    "current_clusters = ([labels])\n",
    "level = 1\n",
    "index = 0\n",
    "while(index!=-1):\n",
    "    print(level, current_clusters)\n",
    "    (a_clstr, b_clstr) = split(current_clusters[index])\n",
    "    del current_clusters[index]\n",
    "    current_clusters.append(a_clstr)\n",
    "    current_clusters.append(b_clstr)\n",
    "    index = max_diameter(current_clusters)\n",
    "    level +=1\n",
    "    print()\n",
    "print(level, current_clusters)"
   ]
  }
 ],
 "metadata": {
  "kernelspec": {
   "display_name": "base",
   "language": "python",
   "name": "python3"
  },
  "language_info": {
   "codemirror_mode": {
    "name": "ipython",
    "version": 3
   },
   "file_extension": ".py",
   "mimetype": "text/x-python",
   "name": "python",
   "nbconvert_exporter": "python",
   "pygments_lexer": "ipython3",
   "version": "3.9.13"
  },
  "orig_nbformat": 4
 },
 "nbformat": 4,
 "nbformat_minor": 2
}
